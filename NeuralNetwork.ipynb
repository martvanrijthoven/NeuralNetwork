{
 "cells": [
  {
   "cell_type": "code",
   "execution_count": 13,
   "metadata": {},
   "outputs": [],
   "source": [
    "from sklearn.metrics import confusion_matrix, classification_report\n",
    "\n",
    "from batch_generator import BatchGenerator\n",
    "from neural_network import NeuralNetwork"
   ]
  },
  {
   "cell_type": "code",
   "execution_count": 14,
   "metadata": {
    "collapsed": true
   },
   "outputs": [],
   "source": [
    "batch_generator = BatchGenerator(1)\n",
    "nn = NeuralNetwork([784,60,10])"
   ]
  },
  {
   "cell_type": "code",
   "execution_count": 15,
   "metadata": {},
   "outputs": [],
   "source": [
    "nn.train(batch_generator)"
   ]
  },
  {
   "cell_type": "code",
   "execution_count": 16,
   "metadata": {},
   "outputs": [
    {
     "name": "stdout",
     "output_type": "stream",
     "text": [
      "[[ 967    0    0    1    0    2    4    2    4    0]\n",
      " [   1 1119    4    1    0    1    6    0    3    0]\n",
      " [   6    2  984   11    6    0    5    6   11    1]\n",
      " [   0    0   10  981    0    5    0    6    5    3]\n",
      " [   1    2    1    0  943    1   14    1    4   15]\n",
      " [   8    0    0   34    0  824    6    3   16    1]\n",
      " [   9    3    0    1    8    6  927    0    4    0]\n",
      " [   4    9   24    5    4    2    0  966    6    8]\n",
      " [   3    3    2   13    7    7    5    4  927    3]\n",
      " [   4    8    1   13   29    2    1    7   11  933]]\n",
      "             precision    recall  f1-score   support\n",
      "\n",
      "          0       0.96      0.99      0.98       980\n",
      "          1       0.98      0.99      0.98      1135\n",
      "          2       0.96      0.95      0.96      1032\n",
      "          3       0.93      0.97      0.95      1010\n",
      "          4       0.95      0.96      0.95       982\n",
      "          5       0.97      0.92      0.95       892\n",
      "          6       0.96      0.97      0.96       958\n",
      "          7       0.97      0.94      0.96      1028\n",
      "          8       0.94      0.95      0.94       974\n",
      "          9       0.97      0.92      0.95      1009\n",
      "\n",
      "avg / total       0.96      0.96      0.96     10000\n",
      "\n"
     ]
    }
   ],
   "source": [
    "x_test, y_test = batch_generator.test_data\n",
    "\n",
    "predictions = []\n",
    "true_labels = []\n",
    "for i in range(x_test.shape[0]):\n",
    "    predictions.append(nn.inference(np.atleast_2d(x_test[i])))\n",
    "    true_labels.append(np.argmax(y_test[i]))\n",
    "    \n",
    "print(confusion_matrix(true_labels,predictions))\n",
    "print(classification_report(true_labels,predictions))"
   ]
  }
 ],
 "metadata": {
  "kernelspec": {
   "display_name": "Python 3",
   "language": "python",
   "name": "python3"
  },
  "language_info": {
   "codemirror_mode": {
    "name": "ipython",
    "version": 3
   },
   "file_extension": ".py",
   "mimetype": "text/x-python",
   "name": "python",
   "nbconvert_exporter": "python",
   "pygments_lexer": "ipython3",
   "version": "3.6.1"
  }
 },
 "nbformat": 4,
 "nbformat_minor": 2
}
