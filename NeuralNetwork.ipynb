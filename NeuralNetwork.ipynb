{
 "cells": [
  {
   "cell_type": "markdown",
   "metadata": {},
   "source": [
    "<h1>Imports</h1>"
   ]
  },
  {
   "cell_type": "code",
   "execution_count": 1,
   "metadata": {
    "collapsed": true
   },
   "outputs": [],
   "source": [
    "import matplotlib.pyplot as plt\n",
    "from sklearn.metrics import confusion_matrix, classification_report, accuracy_score\n",
    "\n",
    "from batch_generator import BatchGenerator\n",
    "from neural_network import NeuralNetwork"
   ]
  },
  {
   "cell_type": "markdown",
   "metadata": {},
   "source": [
    "<h1>Model</h1>"
   ]
  },
  {
   "cell_type": "code",
   "execution_count": 2,
   "metadata": {},
   "outputs": [],
   "source": [
    "batch_size = 20\n",
    "epochs = 5\n",
    "\n",
    "nn = NeuralNetwork([784,40,10], BatchGenerator(batch_size))"
   ]
  },
  {
   "cell_type": "markdown",
   "metadata": {},
   "source": [
    "<h1>Training</h1>"
   ]
  },
  {
   "cell_type": "code",
   "execution_count": 3,
   "metadata": {},
   "outputs": [
    {
     "name": "stdout",
     "output_type": "stream",
     "text": [
      "training...\n",
      "done\n"
     ]
    }
   ],
   "source": [
    "print(\"training...\")\n",
    "accuracy = []\n",
    "for epoch in range(epochs):\n",
    "    nn.train()\n",
    "    accuracy.append(accuracy_score(*nn.validation()))\n",
    "print(\"done\")"
   ]
  },
  {
   "cell_type": "markdown",
   "metadata": {},
   "source": [
    "<h1>Validation Results</h1>"
   ]
  },
  {
   "cell_type": "code",
   "execution_count": 4,
   "metadata": {},
   "outputs": [
    {
     "name": "stdout",
     "output_type": "stream",
     "text": [
      "[0.90659999999999996, 0.92730000000000001, 0.93979999999999997, 0.9476, 0.9526]\n"
     ]
    },
    {
     "data": {
      "image/png": "[encoded data removed]",
      "text/plain": [
       "<matplotlib.figure.Figure at 0x10e749b00>"
      ]
     },
     "metadata": {},
     "output_type": "display_data"
    }
   ],
   "source": [
    "plt.title('validation accuracy')\n",
    "print(accuracy)\n",
    "plt.plot(accuracy)\n",
    "plt.show()"
   ]
  },
  {
   "cell_type": "markdown",
   "metadata": {},
   "source": [
    "<h1>Testing Results</h1>"
   ]
  },
  {
   "cell_type": "code",
   "execution_count": 5,
   "metadata": {},
   "outputs": [
    {
     "name": "stdout",
     "output_type": "stream",
     "text": [
      "[[ 963    0    7    1    1   11    8    3    4    8]\n",
      " [   0 1117    2    1    2    2    3   15    9   10]\n",
      " [   1    4  976   11    6    2    2   17    5    0]\n",
      " [   4    2    8  967    0   26    2    5   18   11]\n",
      " [   0    0   11    0  936    4    6    8    8   24]\n",
      " [   4    3    0   13    0  819   12    1   15    5]\n",
      " [   5    2    7    1    8    9  920    0   13    1]\n",
      " [   1    0    9    7    1    3    0  960    7    6]\n",
      " [   2    7   11    7    2    8    5    0  891    5]\n",
      " [   0    0    1    2   26    8    0   19    4  939]]\n",
      "\n",
      "             precision    recall  f1-score   support\n",
      "\n",
      "          0       0.98      0.96      0.97      1006\n",
      "          1       0.98      0.96      0.97      1161\n",
      "          2       0.95      0.95      0.95      1024\n",
      "          3       0.96      0.93      0.94      1043\n",
      "          4       0.95      0.94      0.95       997\n",
      "          5       0.92      0.94      0.93       872\n",
      "          6       0.96      0.95      0.96       966\n",
      "          7       0.93      0.97      0.95       994\n",
      "          8       0.91      0.95      0.93       938\n",
      "          9       0.93      0.94      0.94       999\n",
      "\n",
      "avg / total       0.95      0.95      0.95     10000\n",
      "\n"
     ]
    }
   ],
   "source": [
    "test_evaluation = nn.test()\n",
    "print(confusion_matrix(*test_evaluation))\n",
    "print()\n",
    "print(classification_report(*test_evaluation))"
   ]
  }
 ],
 "metadata": {
  "kernelspec": {
   "display_name": "Python 3",
   "language": "python",
   "name": "python3"
  },
  "language_info": {
   "codemirror_mode": {
    "name": "ipython",
    "version": 3
   },
   "file_extension": ".py",
   "mimetype": "text/x-python",
   "name": "python",
   "nbconvert_exporter": "python",
   "pygments_lexer": "ipython3",
   "version": "3.6.1"
  }
 },
 "nbformat": 4,
 "nbformat_minor": 2
}
