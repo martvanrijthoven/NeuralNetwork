{
 "cells": [
  {
   "cell_type": "markdown",
   "metadata": {},
   "source": [
    "<h1>Imports</h1>"
   ]
  },
  {
   "cell_type": "code",
   "execution_count": 1,
   "metadata": {},
   "outputs": [],
   "source": [
    "import matplotlib.pyplot as plt\n",
    "\n",
    "from batch_generator import BatchGenerator\n",
    "from neural_network import NeuralNetwork"
   ]
  },
  {
   "cell_type": "markdown",
   "metadata": {},
   "source": [
    "<h1>Model</h1>"
   ]
  },
  {
   "cell_type": "code",
   "execution_count": null,
   "metadata": {
    "collapsed": true
   },
   "outputs": [],
   "source": [
    "batch_size = 10\n",
    "epochs = 5\n",
    "\n",
    "batch_generator = BatchGenerator(batch_size)\n",
    "nn = NeuralNetwork([784,60,10])"
   ]
  },
  {
   "cell_type": "markdown",
   "metadata": {},
   "source": [
    "<h1>Training</h1>"
   ]
  },
  {
   "cell_type": "code",
   "execution_count": 3,
   "metadata": {},
   "outputs": [
    {
     "name": "stdout",
     "output_type": "stream",
     "text": [
      "epochs: 5 \n",
      "batch_size:  10\n",
      "training...\n"
     ]
    }
   ],
   "source": [
    "print('epochs:', epochs , '\\nbatch_size: ', batch_size)\n",
    "\n",
    "print(\"training...\")\n",
    "accuracy = []\n",
    "for epoch in range(epochs):\n",
    "    nn.train(batch_generator)\n",
    "    accuracy.append(nn.validation(batch_generator))"
   ]
  },
  {
   "cell_type": "markdown",
   "metadata": {},
   "source": [
    "<h1>Validation Results</h1>"
   ]
  },
  {
   "cell_type": "code",
   "execution_count": 4,
   "metadata": {},
   "outputs": [
    {
     "data": {
      "image/png": "[encoded data removed]",
      "text/plain": [
       "<matplotlib.figure.Figure at 0x11bb0b6a0>"
      ]
     },
     "metadata": {},
     "output_type": "display_data"
    }
   ],
   "source": [
    "plt.title('validation accuracy')\n",
    "plt.plot(accuracy)\n",
    "plt.show()"
   ]
  },
  {
   "cell_type": "markdown",
   "metadata": {},
   "source": [
    "<h1>Testing Results</h1>"
   ]
  },
  {
   "cell_type": "code",
   "execution_count": 5,
   "metadata": {},
   "outputs": [
    {
     "name": "stdout",
     "output_type": "stream",
     "text": [
      "[[ 971    0    1    0    0    1    1    1    5    0]\n",
      " [   2 1121    2    0    0    1    3    0    5    1]\n",
      " [   7    2  992    4    3    2    3    7   12    0]\n",
      " [   7    0    5  967    0   12    0    7   10    2]\n",
      " [   6    0    4    1  932    0    5    2    2   30]\n",
      " [   4    0    1   21    0  848    4    2    8    4]\n",
      " [  12    3    0    1    1    8  927    0    6    0]\n",
      " [   1    7   15    7    1    0    0  986    5    6]\n",
      " [   7    0    5   10    5    2    1    0  942    2]\n",
      " [   9    8    4   13   12    5    1    7    7  943]]\n",
      "             precision    recall  f1-score   support\n",
      "\n",
      "          0       0.95      0.99      0.97       980\n",
      "          1       0.98      0.99      0.99      1135\n",
      "          2       0.96      0.96      0.96      1032\n",
      "          3       0.94      0.96      0.95      1010\n",
      "          4       0.98      0.95      0.96       982\n",
      "          5       0.96      0.95      0.96       892\n",
      "          6       0.98      0.97      0.97       958\n",
      "          7       0.97      0.96      0.97      1028\n",
      "          8       0.94      0.97      0.95       974\n",
      "          9       0.95      0.93      0.94      1009\n",
      "\n",
      "avg / total       0.96      0.96      0.96     10000\n",
      "\n"
     ]
    }
   ],
   "source": [
    "confusion, report = nn.test(batch_generator)\n",
    "print(confusion)\n",
    "print(report)"
   ]
  }
 ],
 "metadata": {
  "kernelspec": {
   "display_name": "Python 3",
   "language": "python",
   "name": "python3"
  },
  "language_info": {
   "codemirror_mode": {
    "name": "ipython",
    "version": 3
   },
   "file_extension": ".py",
   "mimetype": "text/x-python",
   "name": "python",
   "nbconvert_exporter": "python",
   "pygments_lexer": "ipython3",
   "version": "3.6.1"
  }
 },
 "nbformat": 4,
 "nbformat_minor": 2
}
